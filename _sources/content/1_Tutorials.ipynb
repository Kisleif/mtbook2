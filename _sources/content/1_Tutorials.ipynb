{
 "cells": [
  {
   "cell_type": "markdown",
   "id": "d421ac38-5cd8-443e-b668-14b56c2cbdcf",
   "metadata": {},
   "source": [
    "# Übung mit Jupyter Notebooks\n",
    "\n",
    "Einige Jupyter Notebooks zum Üben.\n",
    "\n",
    "```{tableofcontents}\n",
    "```"
   ]
  }
 ],
 "metadata": {
  "kernelspec": {
   "display_name": "Python 3",
   "language": "python",
   "name": "python3"
  },
  "language_info": {
   "codemirror_mode": {
    "name": "ipython",
    "version": 3
   },
   "file_extension": ".py",
   "mimetype": "text/x-python",
   "name": "python",
   "nbconvert_exporter": "python",
   "pygments_lexer": "ipython3",
   "version": "3.9.7"
  }
 },
 "nbformat": 4,
 "nbformat_minor": 5
}

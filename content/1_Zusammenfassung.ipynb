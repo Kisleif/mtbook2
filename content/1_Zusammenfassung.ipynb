{
 "cells": [
  {
   "cell_type": "markdown",
   "id": "82612403-519a-4e8b-942e-f35279bd37e8",
   "metadata": {},
   "source": [
    "## Zusammenfassung\n",
    "\n",
    "| Begriff | Beschreibung |\n",
    "|:--------------------|:----------------------------------------|\n",
    "|Messgröße | die spezielle Größe der Messung, $x$ |\n",
    "|Wahrer Wert | tatsächlich vorhandener Wert einer Messgröße, dessen Wert niemals bekannt sein wird. |\n",
    "|Messergebnis | (Schätz-)Wert, den die Messgröße durch Auswertung einer Messung bekommt|\n",
    "|arithmetischer Mittelwert $\\overline x$ | Schätzewert für den wahren Wert einer Messgröße aus einer Messreihe mit den Messwerten $x_j$ und der Anzahl der Messwerte $m$: $\\overline x = \\frac{1}{m}\\sum_{j=1}^m x_j$|\n",
    "|Messunsicherheit $u(x)$ | Wichtiger Bestandteil zur Angabe eines Messergebnisses. Die Unsicherheit charakterisiert einen Vertrauensbereich, der der Messgröße zugeschrieben wird: $\\overline x \\pm u(x)$ |\n",
    "|relative Messunsicherheit | Messunsicherheit dividiert durch den Betrag des Mittelwerts: $A_{r} = \\frac{u(x)}{|(\\overline x)|}$ | \n",
    "|Varianz: mittlere quadratische Abweichung $s^2(x)$ | Ein Maß für die Messunsicherheit. Abweichung der Messwerte zum Mittelwert werden quadriert und gemittelt: $s^2 = \\frac{1}{m-1} \\sum_{j=1}^m (x_j - \\overline x)^2$|\n",
    "|Standardabweichung | Wurzel aus der mittleren quadratischen Abweichung:  $s = \\sqrt{\\frac{1}{m-1} \\sum_{j=1}^m (x_j - \\overline x)^2}$ |\n",
    "|empirische Varianz $\\sigma(x)^2$ | Schätzung der Varianz bezogen auf den *wahren* Wert (nicht auf den Mittelwert der Messreihe) der Messgröße: $\\sigma^2 = \\lim_{m\\rightarrow \\infty}\\frac{1}{m} \\sum_{j=1}^m (x_j - \\mu)^2$|\n",
    "|empirische Standardabweichung $\\sigma(x)$ | Wurzel aus der empirischen Varianz: $\\sigma = \\lim_{m\\rightarrow \\infty}\\sqrt{\\frac{1}{m} \\sum_{j=1}^m (x_j - \\mu)^2}$|\n",
    "|Wahrscheinlichkeitsverteilung $dP(x)$ | eine Fukntion, die die Wahrscheinlichkeit angibt, dass eine Messgröße $x$ durch Messung einen bestimmten Wert $x_j + dx$ annehmen wird.| "
   ]
  }
 ],
 "metadata": {
  "kernelspec": {
   "display_name": "Python 3",
   "language": "python",
   "name": "python3"
  },
  "language_info": {
   "codemirror_mode": {
    "name": "ipython",
    "version": 3
   },
   "file_extension": ".py",
   "mimetype": "text/x-python",
   "name": "python",
   "nbconvert_exporter": "python",
   "pygments_lexer": "ipython3",
   "version": "3.9.7"
  }
 },
 "nbformat": 4,
 "nbformat_minor": 5
}

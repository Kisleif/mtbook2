{
 "cells": [
  {
   "cell_type": "markdown",
   "id": "6cd8c90e-c6d1-4a4d-b0d1-6eb5fa32e93d",
   "metadata": {},
   "source": [
    "# Klimadaten analysieren mit Python\n",
    "\n",
    "Zunächst werden die für dieses Jupyter Notebook benötigten Libraries geladen:"
   ]
  },
  {
   "cell_type": "code",
   "execution_count": null,
   "id": "64d9081c-9453-4abb-af50-67c49cff7ca8",
   "metadata": {},
   "outputs": [],
   "source": [
    "#Benötigte Libraries:\n",
    "import numpy as np\n",
    "import pandas as pd\n",
    "import matplotlib.pyplot as plt\n",
    "import plotly.offline as py\n",
    "py.init_notebook_mode(connected=True)\n",
    "import plotly.graph_objs as go\n",
    "import plotly.tools as tls\n",
    "import seaborn as sns\n",
    "import time\n",
    "import warnings\n",
    "warnings.filterwarnings('ignore')\n",
    "\n",
    "# MatplotLib Settings:\n",
    "plt.style.use('default') # Matplotlib Style wählen\n",
    "plt.figure(figsize=(10,5)) # Plot-Größe\n",
    "plt.rcParams['font.size'] = 10; # Schriftgröße"
   ]
  },
  {
   "cell_type": "markdown",
   "id": "4b732a19-2ec3-4c8a-b423-ca9c48dc17fc",
   "metadata": {},
   "source": [
    "## Daten einlesen als 'DataFrame'\n",
    "\n",
    "Im Folgenden Nutzen wir globale Klimadaten, die auf der Webseite der NASA zu finden sind: https://data.giss.nasa.gov/gistemp/. Hierbei handelt es sich um Temperaturdaten, die Anomalien gegenüber dem Mittelwert in den Jahren 1951-1980 aufweisen.\n",
    "Es werden Daten von Dateien (online oder offline) eingelesen mit der Python Bilbiothek `pandas`. Die Daten werden in sogenannten *DataFrames* hier mit dem Namen `global_mean` abgespeichert. "
   ]
  },
  {
   "cell_type": "code",
   "execution_count": null,
   "id": "33c5ef7f-c7ca-4fbc-b918-95d6bcc7f049",
   "metadata": {},
   "outputs": [],
   "source": [
    "#link = \"https://data.giss.nasa.gov/gistemp/graphs_v4/graph_data/Global_Mean_Estimates_based_on_Land_and_Ocean_Data/graph.csv\"\n",
    "link = 'data/graph.csv'\n",
    "global_mean = pd.read_csv(link, header = 1) "
   ]
  },
  {
   "cell_type": "markdown",
   "id": "1b22c115-acff-4f26-a345-72afb3fa9f9d",
   "metadata": {},
   "source": [
    "Wir geben das *DataFrame* aus um uns die Messdaten einmal anzusehen: "
   ]
  },
  {
   "cell_type": "code",
   "execution_count": null,
   "id": "b9d8c35d-49b4-4b7c-a09c-01e5c486c882",
   "metadata": {},
   "outputs": [],
   "source": [
    "global_mean.head(6) # Ausgabe der ersten 5 Spalten\n",
    "#global_mean.tail(5) # Ausgabe der letzten 5 Spalten\n",
    "#global_mean # Ausgabe des DataFrames "
   ]
  },
  {
   "cell_type": "markdown",
   "id": "e17544ad-415b-444b-810d-878c311b6b58",
   "metadata": {},
   "source": [
    "In der ersten Spalte befinden sich lediglich die Indizes der Messungen. Die zweite Spalte beinhaltet das Jahr und die dritte Spalte zeigt den gemessenen globalen Temperaturunterschied im Vergleich zur gemittelten Temeratur der Jahre 1951-1980. Die letzte Spalte zeigt die gleichen Messwerte, jedoch gefiltert. \n",
    "\n",
    "Einzelne Spalten kann man sich anzeigen lassen, indem den Spaltel-Namen des zugehörigen *DataFrames* nutzt:"
   ]
  },
  {
   "cell_type": "code",
   "execution_count": null,
   "id": "0861c09c-c006-4280-803f-1df8c224227b",
   "metadata": {},
   "outputs": [],
   "source": [
    "global_mean['Year']"
   ]
  },
  {
   "cell_type": "markdown",
   "id": "b35a81a9-97cb-4998-a3cb-390a58873b4d",
   "metadata": {},
   "source": [
    "## Daten plotten mit 'matplotlib'\n",
    "\n",
    "Als Beispiel für eine gelungene grafische Darstellung wollen wir die beiden Spalten, *No_Smoothing* and *Lowess(5)* gegenüber der Zeitachse *Year* plotten. Hierfür benützen wir die Python Library `matplotlib`:"
   ]
  },
  {
   "cell_type": "code",
   "execution_count": null,
   "id": "020e4859-4a74-49b4-be75-d3dd9837053e",
   "metadata": {},
   "outputs": [],
   "source": [
    "import matplotlib.pyplot as plt\n",
    "plt.style.use('default')\n",
    "plt.figure(figsize=(10,5))\n",
    "plt.rcParams['font.size'] = 10;\n",
    "plt.plot(global_mean[\"Year\"],global_mean[\"No_Smoothing\"], ls=\"-\", lw=1, marker=\"s\", ms=3, color=\"tab:gray\", alpha=0.5, label=\"Werte\");\n",
    "plt.plot(global_mean[\"Year\"],global_mean[\"Lowess(5)\"], lw=4,  color=\"tab:blue\", label=\"Glättung (NASA)\");\n",
    "plt.xlabel('Jahr')\n",
    "plt.ylabel(\"Jahresmitteltemperaturabweichung [°C]\")\n",
    "plt.legend();\n",
    "plt.grid();"
   ]
  },
  {
   "cell_type": "markdown",
   "id": "b44584a9-729b-4d0e-a5a3-44f8525633f1",
   "metadata": {},
   "source": [
    "## Messunsicherheiten als Fehlerbalken hinzufügen\n",
    "\n",
    "Bei diesem Datenset stehen uns leider keine Messunsicherheiten zur Verfügung. Um Sie jedoch als Fehlerbalken miteinzubeziehen, wollen wir im Folgenden annehmen, dass der Temperaturunterschied auf 0.25K genau messen werden konnte und fügen die unserem Datensatz hinzu:"
   ]
  },
  {
   "cell_type": "code",
   "execution_count": null,
   "id": "f882a9ca-ddeb-408b-8ec9-9d136992b328",
   "metadata": {},
   "outputs": [],
   "source": [
    "global_mean[\"uncertainty\"] = 0.25\n",
    "print(global_mean)"
   ]
  },
  {
   "cell_type": "markdown",
   "id": "e173177f-cb43-4ef9-b607-2d41b9e64f21",
   "metadata": {},
   "source": [
    "Grafisch darstellen tun wir Messunsicherheiten mittels Fehlerbalken und der Matplotlib-Funktion `plt.errorbar`. "
   ]
  },
  {
   "cell_type": "code",
   "execution_count": null,
   "id": "21c4089f-0716-4f85-a4f8-91d4c55c5493",
   "metadata": {},
   "outputs": [],
   "source": [
    "plt.errorbar(global_mean[\"Year\"],global_mean[\"No_Smoothing\"], yerr=global_mean[\"uncertainty\"], ls=\"-\", lw=1, marker=\"s\", ms=3, color=\"tab:gray\", alpha=0.5, label=\"Werte\");\n",
    "plt.plot(global_mean[\"Year\"],global_mean[\"Lowess(5)\"], lw=4,  color=\"tab:blue\", label=\"Glättung (NASA)\");\n",
    "plt.xlabel('Jahr')\n",
    "plt.ylabel(\"Jahresmitteltemperaturabweichung [°C]\")\n",
    "plt.legend();\n",
    "plt.grid();"
   ]
  },
  {
   "cell_type": "markdown",
   "id": "9ec94bb7-4d70-442d-86f5-702bd012f171",
   "metadata": {},
   "source": [
    "## Ausgleichsgerade berechnen und plotten\n",
    "\n",
    "Mittels linearer Regression kann der Temperaturanstieg aus den Daten berechnet werden. Hierfür wird die Python Library `numpy` benutzt und die Funktion `polyfit` aufgerufen und in als `model` gespeichert. Diese Funktion benutzt die Least-Square Methode für polynomische Modelle. Weitere Informationen zu der Funktion findet ihr [hier](https://numpy.org/doc/stable/reference/generated/numpy.polyfit.html). Mit der Option `cov=True` wird die Kovarianz-Matrix berechnet, welche die Unsicherheiten für die Fit-Parameter beinhaltet. "
   ]
  },
  {
   "cell_type": "code",
   "execution_count": null,
   "id": "725811b0-57f0-4c5c-964d-f836b467747f",
   "metadata": {},
   "outputs": [],
   "source": [
    "import numpy as np\n",
    "import pandas as pd\n",
    "\n",
    "x=global_mean[\"Year\"]\n",
    "y=global_mean[\"No_Smoothing\"]\n",
    "y_err = global_mean[\"uncertainty\"]\n",
    "model = np.polyfit(x, y, deg=1, w=1/y_err, cov=True) # 1. Wert = Anstieg , 2. Wert = Schnittpunkt mit y-Achse\n",
    "y_model = model[0][0]*x+model[0][1] # Modell einer linearen Regression\n",
    "\n",
    "plt.ylabel(\"Jahresmitteltemperaturabweichung [°C]\")\n",
    "plt.xlabel(\"Jahr\")\n",
    "plt.errorbar(global_mean[\"Year\"],global_mean[\"No_Smoothing\"], yerr=global_mean[\"uncertainty\"], ls=\"-\", lw=1, marker=\"s\", ms=3, color=\"tab:gray\", alpha=0.5, label=\"Werte\");\n",
    "plt.plot(x,y_model, ls=\"-\", lw=3, color=\"tab:red\", label=f\"lineare Regression y=({model[0][0]*1000:.3f}+-{np.sqrt(model[1][0][0]*1000):.3f})1e-3*x+({model[0][1]:.3f}+-{np.sqrt(model[1][1][1]):.3f})\");\n",
    "plt.legend(fontsize=12);\n",
    "plt.grid();"
   ]
  },
  {
   "cell_type": "markdown",
   "id": "82a0a9cc-db24-410d-ac1c-d016e8fe69c3",
   "metadata": {},
   "source": [
    "Das Model beinhaltet zwei Matrizen:"
   ]
  },
  {
   "cell_type": "code",
   "execution_count": null,
   "id": "0e239ee8-5a02-4ad5-b76e-f666e32af04e",
   "metadata": {},
   "outputs": [],
   "source": [
    "model"
   ]
  },
  {
   "cell_type": "markdown",
   "id": "d10e2edd-4c74-414f-a699-0079cca9edd4",
   "metadata": {},
   "source": [
    "Im ersten Array stehen die Fit-Parameter der linearen Ausgleichsgeraden entsprechend der obigen Deklaration: `y_model = model[0][0]*x+model[0][1]`.\n",
    "Im zweiten Array, hier eine 2x2 Matrix, sind die Unsicherheiten in Form von der Kovarianz-Matrix dargestellt. Auf der Diagonalen stehen die Varianzen, $s^2$, auf den Nicht-Diagonalelementen stehen die Kovarianzen (Korrelationsterme zwischen $m$ und $b$):\n",
    "\n",
    "$$\\mathrm{cov}(m,b) = \n",
    "\\begin{pmatrix}\n",
    " s_m^2 & s_{mb} \\\\\n",
    " s_{bm} & s_b^2\n",
    "\\end{pmatrix} $$\n",
    "\n",
    "Der Temperaturanstieg kann entsprechend ausgegeben werden:"
   ]
  },
  {
   "cell_type": "code",
   "execution_count": null,
   "id": "614d64c1-a1fa-48b2-a721-078cb15c180e",
   "metadata": {},
   "outputs": [],
   "source": [
    "print(f\"Temperaturanstieg pro Jahr (von 1981 bis 2020): {model[0][0]:.3f}°C/Jahr\")\n",
    "print(f\"Temperaturanstieg seit Beginn der Messung: {(y_model.iloc[-1]-y_model.iloc[0]):.3f}°C\")"
   ]
  },
  {
   "cell_type": "markdown",
   "id": "fb1ed330-2740-4ffd-8b02-cb04ee3a41f8",
   "metadata": {},
   "source": [
    "```{warning}\n",
    "Die lineare Regression bezieht hier den ganzen Zeitraum mit ein! Im folgenden betrachten wir für den Temperaturgradienten nur die Daten von 1980 bis 2020!\n",
    "```"
   ]
  },
  {
   "cell_type": "code",
   "execution_count": null,
   "id": "8afb101e-2623-4741-ab05-df90ba9ca0c8",
   "metadata": {},
   "outputs": [],
   "source": [
    "x=global_mean.loc[global_mean[\"Year\"] >= 1980,\"Year\"]\n",
    "y=global_mean.loc[global_mean[\"Year\"] >= 1980,\"No_Smoothing\"]\n",
    "y_err = global_mean.loc[global_mean[\"Year\"] >= 1980,\"uncertainty\"]\n",
    "\n",
    "model = np.polyfit(x, y, deg=1, w=1/y_err, cov=True) # 1. Wert = Anstieg , 2. Wert = Schnittpunkt mit y-Achse\n",
    "y_model = model[0][0]*x+model[0][1] # Modell einer linearen Regression\n",
    "print(f\"Temperaturanstieg pro Jahr (von 1980 bis 2020): {model[0][0]:.3f}°C/Jahr\")"
   ]
  },
  {
   "cell_type": "code",
   "execution_count": null,
   "id": "821c9c6e-588a-4cd2-b79d-940117ad8db3",
   "metadata": {},
   "outputs": [],
   "source": [
    "plt.ylabel(\"Jahresmitteltemperaturabweichung [°C]\")\n",
    "plt.xlabel(\"Jahr\")\n",
    "plt.errorbar(global_mean[\"Year\"],global_mean[\"No_Smoothing\"], yerr=global_mean[\"uncertainty\"], ls=\"-\", lw=1, marker=\"s\", ms=3, color=\"tab:gray\", alpha=0.5, label=\"Werte\");\n",
    "plt.plot(x,y_model, ls=\"-\", lw=3, color=\"tab:red\", label=f\"lineare Regression y=({model[0][0]*1000:.3f}+-{np.sqrt(model[1][0][0]*1000):.3f})1e-3*x+({model[0][1]:.3f}+-{np.sqrt(model[1][1][1]):.3f})\");\n",
    "plt.legend(fontsize=12);\n",
    "plt.grid();"
   ]
  }
 ],
 "metadata": {
  "kernelspec": {
   "display_name": "Python 3",
   "language": "python",
   "name": "python3"
  },
  "language_info": {
   "codemirror_mode": {
    "name": "ipython",
    "version": 3
   },
   "file_extension": ".py",
   "mimetype": "text/x-python",
   "name": "python",
   "nbconvert_exporter": "python",
   "pygments_lexer": "ipython3",
   "version": "3.9.7"
  }
 },
 "nbformat": 4,
 "nbformat_minor": 5
}

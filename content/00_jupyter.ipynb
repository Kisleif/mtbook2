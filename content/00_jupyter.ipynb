{
 "cells": [
  {
   "cell_type": "markdown",
   "id": "007a4ffc-b6bd-4473-9afe-68a9d3f42fdd",
   "metadata": {},
   "source": [
    "# Über dieses Vorlesungsskript"
   ]
  },
  {
   "cell_type": "markdown",
   "id": "59a1c803-3d64-4855-bd4f-bc48b421e7d5",
   "metadata": {},
   "source": [
    "## Quick introduction to Jupyter Notebook"
   ]
  },
  {
   "cell_type": "markdown",
   "id": "3490d417-cf35-4bbe-9c8a-4236636cf5c9",
   "metadata": {},
   "source": [
    "<iframe width=\"560\" height=\"315\" src=\"https://www.youtube.com/embed/jZ952vChhuI\" title=\"YouTube video player\" frameborder=\"0\" allow=\"accelerometer; autoplay; clipboard-write; encrypted-media; gyroscope; picture-in-picture\" allowfullscreen></iframe>"
   ]
  },
  {
   "cell_type": "markdown",
   "id": "c4f2bf3f-835a-4fc2-9465-143f1520e1b6",
   "metadata": {},
   "source": [
    "## Einführung in Python"
   ]
  }
 ],
 "metadata": {
  "kernelspec": {
   "display_name": "Python 3",
   "language": "python",
   "name": "python3"
  },
  "language_info": {
   "codemirror_mode": {
    "name": "ipython",
    "version": 3
   },
   "file_extension": ".py",
   "mimetype": "text/x-python",
   "name": "python",
   "nbconvert_exporter": "python",
   "pygments_lexer": "ipython3",
   "version": "3.9.12"
  }
 },
 "nbformat": 4,
 "nbformat_minor": 5
}

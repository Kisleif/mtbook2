{
 "cells": [
  {
   "cell_type": "markdown",
   "id": "082083e8-d1a8-4bb0-a02c-599191fda993",
   "metadata": {},
   "source": [
    "# Kenngrößen\n",
    "\n",
    "Eine Wechselgröße, z.B. eine Wechselspannung, liegt in der allgemein Form als Sinusschwingung vor. Die Form wollen wir im folgenden wiefolgt bescheiben:\n",
    "$$u(t) = \\hat U \\cdot \\sin(\\omega t)$$\n",
    "\n",
    "In elektronischen Schaltungen hat man dazu eine Stromstärke, der dieser Wechselspannung zugehörig ist, und sich allgemein wiefolgt schreiben lässt:\n",
    "\n",
    "$$i(t) = \\hat I \\cdot \\sin(\\omega t + \\varphi)$$\n",
    "\n",
    "Der Stromstärke haben wir die Phase $\\varphi$ hinzugefügt, da durch besondere Komponenten in der Schaltung, wie z.B. ein Kondensator oder eine Spule, eine Verzögerung zwischen Spannung und Stromstärke auftritt. Im klassischen Stromkreis, mit lediglich einem Widerstand, ist so eine Verzögerung meist vernachlässigbar. \n",
    "\n",
    "* Mit $\\omega = 2\\pi f$ wird die **Kreisfrequenz** bezeichnet, welche ebenfalls die Einheit Hz hat. Genauso wie die Frequenz $f$.\n",
    "* Die **Frequenz** $f = \\frac{1}{T}$ ist der Kehrwert der **Periodendauer** $T$.\n",
    "* Die **Phase** $\\varphi$ gibt die Phasenverschiebung oder Verzögerung des Messsignals an "
   ]
  },
  {
   "cell_type": "markdown",
   "id": "2e5f66c0-d8fb-4895-9233-444118dee281",
   "metadata": {},
   "source": [
    "## Kenngrößen von Wechselgrößen\n",
    "<a id=\"SubSec-Kenngrößen\"></a>\n",
    "\n",
    "Bei einem Wechselsignal interessiert man sich häufig nicht für den Zeitverlauf, oder den einzelnen Wert zu einem bestimmten Zeitpunkt, den sogenannten Momentanwert. Dieser hat nämlich keine große Aussagekraft, da er sich gemäß der zugrundeliegenden Signalform ständig ändert. Für viele Fragestellungen sind Kenngrößen relevant, die sich aus der Periode des Wchselsignals ermitteln lassen:\n",
    "\n",
    "* Mit $\\hat U$ bezeichnen wir den **Scheitelfaktor** oder die **Amplitude**. Dies ist der maximale Ausschlag eines Messsignals innerhalb einer Periode (oder Messzeit) $T$.\n",
    "* Der **Gleichanteil** einer Wechselgröße wird über den arithmetischen Mittelwert über eine Perdiode $T$ berechnet. Es ist nur dann aussagekräftig, wenn nicht gerade eine Signal vorliert was keinen Gleichanteil hat. Andernfalls ist der Wert immer 0. \n",
    "$$\\overline u = \\frac{1}{T}\\int_{t}^{t+T} u(t)dt$$\n",
    "\n",
    "* Wenn wir uns jetzt einen Förn oder Lampe, angeschlossen an eine normale Steckdose mit Wechselstrom vorstellen, so ist der Gleichanteil der Wechselspannung 0, aber trotzdem wirkt die Spannung, da Fön oder Lampe arbeiten. Das heißt es kommt offensichtlich nicht auf die Polarität der Spannung an, sondern nur darum, dass im Durchschnitt irgendeine Art von beliebig gepolter Spannung anliegt. Mathematisch gesehen entspricht dies einer Betragsbildung und wird durch den Gleichrichtwert definiert.  Das Signal wird mittels analoger Schaltung *gleichgerichtet* (das sehen wir uns später noch mal genauer an), bevor es zur Mittelwertbildung kommt. Daher auch der Name. Der Gleichrichtwert hat auch für Signale ohne Gleichanteil eine Aussagekraft. Der **Gleichrichtwert** einer Wechselgröße ist der Mittelwert des Absolutwertes einer Wechselgröße berechnet sich zu:\n",
    "$$\\overline{|u|} = \\frac{1}{T}\\int_{t}^{t+T} |u(t)|dt$$\n",
    "\n",
    "* Aus der Physik ist bekannt, dass die Berechnung der elektrischen Leistung *nicht* über den Einbezug von Gleichrichtwerten erfolgt. Vielmehr muss der **Effektivwert** (auch RMS genannt = root mean square) berechnet werden:\n",
    "$$U = u_\\mathrm{eff} = \\sqrt{\\overline{u^2}} = \\sqrt{\\frac{1}{T}\\int_{t}^{t+T}u(t)^2dt}$$\n",
    "\n",
    "* Mittelwert, Gleichrichtwert und Effektivwert lassen sich für jede beliebige periodische Signalform berechnen und sind *unabhängig* von der Frequenz. Zwischen Ihnen sind Umrechnungsfaktoren definiert, Scheitelfaktoren oder Formfaktoren, welche das Verhältnis zwischen Effektivwert und anderen Kenngrößen angeben. Wir werden später noch sehen, dass die Messung von Effektivwerten sehr aufwendig ist (die mathematischen Operationen im Intergral zeigen dies auch). Es ist einfacher den Scheitel- oder Gleichrichtwert zu messen und mittels dieser Umrechnungs-Faktoren den Effektivwert anschließend zu berechnen. Die Faktoren sind jedoch für jede Signalform anders!\n",
    "\n",
    "    * **Scheitelfaktor (Crest-Faktor)**: \n",
    "    $$k_S = \\frac{\\hat u}{u_\\mathrm{eff}}$$\n",
    "    \n",
    "    * **Formfaktor**: \n",
    "    $$k_F = \\frac{u_\\mathrm{eff}}{\\overline{|u|}}$$\n",
    "    \n",
    "Allgemein kann man sagen, dass je größer der Scheitelfaktor, desto mehr übersteigt der Spitzenwert eines Signals den Effektivwert. Für die Praxis bedeutet dies, dass bei der Ermittlung eines Effektivwertes die Messeinrichtung aufgrund sehr hoher Spitzenwerte bereits übersteuert, obwohl der Effektivwert eigentlich noch ausreichend Aussteuerungsreserven aufweist. Besonders kritisch ist dieses Verhalten bei Pulsfolgen mit sehr kleinem Tastverhältnis. Hier kann der Scheitelfaktor unter Umständen Werte von 10 oder mehr annehmen. Messgeräte geben daher häufig Scheitelfaktoren vor, welche nicht überschritten werden sollten. \n",
    "\n",
    "Bei der digitalen Signalverarbeitung können die oben genannten Kenngrößen ebenfalls mathematisch ermittelt werden, indem die Integrale durch diskrete Summen ausgetauscht werden. Der Effektivwert  berechnet sich dann wie folgt:\n",
    "\n",
    "$$U = u_\\mathrm{eff} = \\sqrt{\\overline{u^2}} = \\sqrt{\\frac{1}{T}\\sum_{k = 1}^{n}T_\\mathrm A \\cdot  u_k^2}$$\n",
    "\n",
    "wobei $n$ die Abtastwerte sind, $T_A$ der Abstand zwischen zwei Messungen und $u_k$ der einzelne Messwert zum Zeitpunkt $k\\cdot T_A$.\n",
    "\n",
    "![Bild](pictures/digital_eff.png)"
   ]
  },
  {
   "cell_type": "markdown",
   "id": "b1560a18-8aab-4ec0-9858-37632e6e132f",
   "metadata": {},
   "source": [
    "## Sinusschwingung\n",
    "\n",
    "Beispiel eines Sinussignals mit und ohne Gleichanteil ist im folgenden Bild einmal dargestellt. Für beide Fälle wurden die Integrale von oben gelöst und aus den entsprechenden Ergebnissen die Formeln für Scheitelfaktor und Formfaktor abgeleitet.\n",
    "\n",
    "![Bild](pictures/bsp_eff_sin.png)\n",
    "\n",
    "Die Angabe von Scheitel- und Formfaktor haben für Signale mit Gleichanteil keine größere Bedeutung und müssen nicht berechnet werden. Im Vergleich der beiden Beispiele zeigt sich, dass der Effektivwert eines Sinussignals mit Gleichanteil der quadratische Mittelwert der Effektivwerte des Gleichanteils und dem Wert des Gleichanteils $u_0$ entspricht. "
   ]
  },
  {
   "cell_type": "markdown",
   "id": "a4c3bc37-317c-4cd0-b96c-4003564ef99f",
   "metadata": {},
   "source": [
    "## Pulsweitenmodulation\n",
    "<a id=\"SubsubSec-Kenngrößen_bsp_puls\"></a>\n",
    "\n",
    "Ein weiteres Beispiel ist für eine Pulsweitenmodulation berechnet und die Formeln können aus folgendem Bild abgelesen werden. Er handelt sich um ein unsymmetrisches Rechtecksignal. In diesem Fall sprechen wir von einem Pulsweitenmodulierten Signal, da die 'An'-Zeit innerhalb einer bestimmten Anwendung nicht immer gleich groß sein muss. Das Verhältnis \n",
    "\n",
    "$$\\tau = \\frac{\\Delta t}{T}$$\n",
    "\n",
    "wird auch Tastverhältnis genannt. Hierüber kann ein Messwert analog codiert und übertragen werden, während das Signal selber digital ist.\n",
    "\n",
    "![Bild](pictures/bsp_eff_puls.png)"
   ]
  }
 ],
 "metadata": {
  "kernelspec": {
   "display_name": "Python 3",
   "language": "python",
   "name": "python3"
  },
  "language_info": {
   "codemirror_mode": {
    "name": "ipython",
    "version": 3
   },
   "file_extension": ".py",
   "mimetype": "text/x-python",
   "name": "python",
   "nbconvert_exporter": "python",
   "pygments_lexer": "ipython3",
   "version": "3.9.12"
  }
 },
 "nbformat": 4,
 "nbformat_minor": 5
}
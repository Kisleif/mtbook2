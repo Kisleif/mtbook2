{
 "cells": [
  {
   "cell_type": "markdown",
   "id": "ee989520-8417-42a2-8d86-714cca168b30",
   "metadata": {},
   "source": [
    "# Impuls- und Sprungantwort\n",
    "<a id=\"SubSec-white_box\"></a>\n",
    "\n",
    "Bei dem Prinzip der black box kenne ich das Innenleben meines Messsystems nicht, und ich kann lediglich mittels Messungen darauf zurück schließen. Je nachdem, welches Signal an den Eingang angelegt wird, erhalte ich ein andere Ausgangssignal. Dies ist in den beiden Bildern aus dem vorausgegangenen Kapitel deutlich zu erkenne. In einem Fall wurde ein Sprung angelegt, im anderen Fall ein Impuls. \n",
    "\n",
    "In der Messtechnik ist es hingegen häufig viel aussagekräftiger das Übertragungsverhalten einer Messeinrichtung mittels Testfunktionen zu überprüfen. Sprung und Impuls gehören zu des Testfunktionen, doch auch eine Rampenfunktion (ein sich kontinuierlich erhöhendes Eingangssignal) oder ein Sweep (hier werden verschiedene Frequenzen direkt nacheinander durchgefahren) haben sich bewährt. \n",
    "\n",
    "![Bild](pictures/testfunktionen.png)\n",
    "\n",
    "Das Vorgehen ist wiefolgt: Es wird eine Testfunktion angelegt und gemessen. Der Ausgang des Systems wird abgegriffen und ebenfalls gemessen. Ein Vergleich aus angelegtem Eingangssignal und gemessener Systemantwort (Ausgangssignal) können Rückschlüsse für das System getroffen werden. "
   ]
  },
  {
   "cell_type": "markdown",
   "id": "94c95b52-4a2c-4988-aa9e-a4f8c0b07345",
   "metadata": {},
   "source": [
    "## Interpretation der Sprungantwort\n",
    "<a id=\"SubSubSec-Interpretation_der_Sprungantwort\"></a>\n",
    "\n",
    "An dieser Stelle wollen wir uns ansehen, was man aus der Sprungantwort eines Tiefpasses 1. Ordnung im Labor ablesen kann. \n",
    "* Geplottet im nachfolgenden Bild ist die normalisierte Sprungantwort, d.h. das Ausgangssignal wurde durch $u_0$ dividiert. Nach langer Einpendelzeit folgt der Ausgang dem Eingangssignal.\n",
    "* $\\tau$ ist die Zeitkonstante, die die *Trägheit* eines Systems bestimmt. \n",
    "    * Aus der Theorie ist bekannt (siehe vorheriges Kapitel): $\\tau = RC$ \n",
    "    * Nach der Zeit $\\tau$ ist das Ausgangssignal auf 63% seines maximal möglichen Wertes angestiegen. Es ist noch kein stationärer Zustand erreicht.\n",
    "* Einstellzeit $t_e$: Dies ist das *95%-Kriterium*:\n",
    "    * Für ein System 1. Ordnung muss die Sprungantwort $h(t)$ nach der Zeit $t = 3\\tau$ 95% des Endwertes erreicht haben.\n",
    "    * Nur wenn dies der Fall ist, handelt es sich um ein System mit Ausgleich 1. Ordnung\n",
    "    * Für ein System 2. Ordnung ist häufig ein Überschwingungen oder Einpendeln zubeoachten. Dann ist $t_e$ Zeit vom Anlegen der Sprungfunktion bis zum Erreichen des Toleranzbandes innerhalb von 0,95 und 1,05.\n",
    "* *Anstiegszeit* $t_r$: Dies ist die Dauer für einen Signalanstieg von 10% auf 90% am Ausgang des Systems.\n",
    "\n",
    "![Bild](pictures/sprungantwort.png)"
   ]
  },
  {
   "cell_type": "markdown",
   "id": "a7a1dc81-891f-430e-82e6-bc9e3dcd4cea",
   "metadata": {},
   "source": [
    "## Impulsantwort und Faltung im Zeitraum\n",
    "<a id=\"SubSubSec-Impulsantwort_und_Faltung\"></a>\n",
    "\n",
    "In diesem Abschnitt wollen wir uns der Genialität der Impulsantwort in Kombination mit der Faltung widmen. \n",
    "Hierfür müssen wir uns zuerst angucken, was *Faltung* überhaupt bedeutet. \n",
    "\n",
    "Die **Faltung** ist eine mathematische Operation, welche zwischen zwei Funktionen $f$ und $g$ ausgeführt werden kann. Die Kurzschreibweise ist das Sternchen zwischen den beiden Funktionen. Allgemein berechnet wird sie über ein Integral, welches die beiden Funktionen beinhaltet, wobei $g$ hierbei zeitlich gespiegelt und verschoben wird. \n",
    "\n",
    "$$(f \\ast g)(t) = \\int_{-\\infty}^{\\infty} f(\\tau)g(t-\\tau) \\mathrm{d}\\tau$$\n",
    "\n",
    "Die resultierende „Überlagerung“ zwischen $f$ und gespiegelten und verschobenen Versionen von $g$ (man spricht auch von einer „Verschmierung“ von $f$) kann z. B. verwendet werden, um einen gleitenden Durchschnitt zu bilden.\n",
    "Das Faltungsintegral kann in drei Schritten verstanden werden:\n",
    "\n",
    "1. der Eingang $g$ wird in der Zeit umgekehrt and zeitverschoben\n",
    "2. Dieses umgekehrte und verschobene $g$ wird nun an $f$ multipliziert\n",
    "3. Und dann wird das Produkt über alle Zeiten summiert (Integralbildung).\n",
    "\n",
    "Für viele Funktionen wurde das Faltungsintegral bereits bestimmt, da es sehr aufwendig ist, dieses i.Allg. zu lösen. \n",
    "Das Integral zu lösen hilft außerdem kaum dabei genau zu verstehen, was das Integral, bzw. die Faltung, an sich überhaupt bedeutet. Die Faltung kann auch grafisch bestimmt werden, was wir uns in einer Übung einmal genauer ansehen werden. \n",
    "\n",
    "Das interessante der Faltung ist jedoch, dass wir durch diese mathematische Operation das Systemverhalten oder Ausgangssignale vorhersagen können, solange die Impulsantwort bekannt ist. Man kann sich das vereinfacht so vorstellen, dass eine beliebige Eingangsfunktion $f(t)$ durch undendliche viele *Impulse* beschrieben werden, mit infinitesimal kleiner Breite $dt$. Die Impulsantwort ist für einen Impuls (Delta-Peak) bekannt: sie ist die zeitverschobene Antwort $g(t-dt)$. Die Überlagerung vieler einzelner Impulse, eine beliebige Eingangsfunktion $f(t)$ zu modellieren, ist einfach die Aussummerierung aller Impulse. In einem LZI System ist die Impulsantwort ebenfalls die Aufsummerierung der Impulsantworten zu den zugehörigen Impulsen (*Linearitätsbedingung*). \n",
    "Um den *realen* Werteverlauf der Eingangsfunktion sicher zu stellen, muss jeder Delta-Peak für jedes Zeitintervall mit dem Funktionswert skaliert werden.\n",
    "Die *Homogenitätsbedingung* stellt jetzt sicher, dass wir den Ausgang auch entsprechend skalieren dürfen. \n",
    "Mathematisch betrachtet resultiert dies direkt darin, dass wir Antworten von beliebigen Anregungsfunktionen hervorsagen können, indem die Anregungsfunktion $f(t)$ mit der Impulsantwort gefaltet wird. \n",
    "\n",
    "![Bild](pictures/faltung_zeit.png)\n",
    "\n",
    "Die Faltung ist nicht zu verwechseln mit der Kross-Korrelation von zwei Messsignalen. Obwohl die Integrale sehr ähnlich aussehen, so besteht ein signifikanter Unterschied zwischen diesen beiden Methoden, der sich im Minuszeichen der Verzögerung aufzeigt. Grafisch bedeutet dies, dass das zu faltende Signal im Falle der Kreuz-Korrelation *nicht* gespiegelt wird, wohingegen es bei der grafischen Faltung zeitlich gespiegelt werden muss. \n",
    "Die *Faltung* berechnet man in der Regel, wenn man die Antwort eines Messsystems berechnen möchte.\n",
    "$$(f \\ast g)(t) = \\int_{-\\infty}^{\\infty} f(\\tau)g(t-\\tau) \\mathrm{d}\\tau$$\n",
    "Die *Kreuz-Korrelation* berechnet man um zu untersuchen, ob Rauschanteile von Signal $f$ auch in Signal $g$ vorkommen (Stichwort ist hier der *Korrelationsbegriff*, welcher häufig auf zwei *Signale* und nicht Messsysteme angewendet wird).\n",
    "$$(f \\star g)(t) = \\int_{-\\infty}^{\\infty} f(\\tau)g(t+\\tau) \\mathrm{d}\\tau$$\n",
    "Die *Auto-Korrelation* soll hier der vollständigkeitshalber noch einmal als Spezialfall der Kreuz-Korrelation aufgeführt werden. Hier berechnet man, wie ähnlich ein zeit-verschobenes Signal zu sich selbst ist (*zeitliche Korrelation*). \n",
    "$$(g \\star g)(t) = \\int_{-\\infty}^{\\infty} g(\\tau)g(t+\\tau) \\mathrm{d}\\tau$$\n",
    "\n",
    "![Bild](pictures/faltung_kreuzkorr.png)"
   ]
  },
  {
   "cell_type": "markdown",
   "id": "9c32293d-1402-4486-a48a-b2c9363da2f8",
   "metadata": {},
   "source": [
    "## Interpretation im Frequenzraum\n",
    "<a id=\"Sec-Interpretation_im_Frequenzraum\"></a>\n",
    "\n",
    "Als nächstes gucken wir uns dynamische Messsysteme im Frequenraum an. \n",
    "Aus den letzten Vorlesungen sollte bekannt sein, dass periodische Zeitserien in Fourierreihen umgeschrieben werden können. Nicht-periodische Funktionen können mittels Fourier-Transformation in den Frequenzraum transformiert werden. In beiden Fällen erhält man Auskunft darüber, welche Frequenzanteile in dem Signal vorhanden sind. Die Frequenzanteile weisen eine Amplitude und eine Phase auf und können auch in einem Phasordiagram oder Amplitudendiagram eingezeichnet werden. \n",
    "\n",
    "Nicht nur Signale, sondern natürlich auch das Messsystem selber, kann in den Frequenz- oder eher den Laplace-Raum, transformiert werden. Wie sich das Messsystem im Frequenzraum verhält, wird über die sogenannte **Übertragungsfunktion** definiert. Die Übertragungsfunktion eines Systems ist das Verhältnis von Ausgangs- zu Eingangssinal. Das Eingangssignal kann mittels Fourier- oder Laplace-Transformation transformiert werden. Zur Erinnerung schreiben wir hier noch mal die Integrale, die für die Umrechnung benutzt werden:\n",
    "\n",
    "* Fourier-Transformation: $\\mathcal F(x(t)) = X(j\\omega) = \\int_{-\\infty}^{\\infty} x(t) \\mathrm e^{-j \\omega t} dt$\n",
    "* Laplace-Transformaton: $\\mathcal L(x(t)) = X(s) = \\int_{0}^{\\infty} x(t) \\mathrm e^{-st} dt$\n",
    "\n",
    "Wenn $x(t)$ das Eingangssignal im Zeit-Raum ist, dann bezeichnen wir mit $X(j \\omega)$ das Eingangssignal im Frequenzraum. Hier ist $j$ wieder die komplexe Zahl. Das Ausgangssignal $y(t)$ wird analog dazu mit $Y(j \\omega)$ bezeichnet. Es hat sich eingebürgert, dass Zeitsignale mit kleinen Buchstaben, $x$, bezeichnet werden und Signale im Frequenzbereich mit großen Buchstaben, $X$. \n",
    "\n",
    "Die Übertragungsfunktion, $G(j \\omega)$, kann also wiefolgt ausgedrückt werden:\n",
    "\n",
    "$$G(j \\omega) = \\frac{Y(j \\omega)}{X(j \\omega)}$$"
   ]
  }
 ],
 "metadata": {
  "kernelspec": {
   "display_name": "Python 3",
   "language": "python",
   "name": "python3"
  },
  "language_info": {
   "codemirror_mode": {
    "name": "ipython",
    "version": 3
   },
   "file_extension": ".py",
   "mimetype": "text/x-python",
   "name": "python",
   "nbconvert_exporter": "python",
   "pygments_lexer": "ipython3",
   "version": "3.9.12"
  }
 },
 "nbformat": 4,
 "nbformat_minor": 5
}
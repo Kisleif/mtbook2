{
 "cells": [
  {
   "cell_type": "markdown",
   "id": "2808e0e4-815e-49d1-8680-9d1e6610c8a6",
   "metadata": {},
   "source": [
    "# Messen elektrischer Größen\n",
    "\n",
    "Richtig messen\n",
    "\n",
    "```{tableofcontents}\n",
    "```"
   ]
  },
  {
   "cell_type": "code",
   "execution_count": null,
   "id": "10a16a90-f7c9-457d-ae90-d8deddd88c47",
   "metadata": {},
   "outputs": [],
   "source": []
  }
 ],
 "metadata": {
  "kernelspec": {
   "display_name": "Python 3",
   "language": "python",
   "name": "python3"
  },
  "language_info": {
   "codemirror_mode": {
    "name": "ipython",
    "version": 3
   },
   "file_extension": ".py",
   "mimetype": "text/x-python",
   "name": "python",
   "nbconvert_exporter": "python",
   "pygments_lexer": "ipython3",
   "version": "3.9.12"
  }
 },
 "nbformat": 4,
 "nbformat_minor": 5
}
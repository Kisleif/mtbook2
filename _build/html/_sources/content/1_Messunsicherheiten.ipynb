{
 "cells": [
  {
   "cell_type": "code",
   "execution_count": 3,
   "id": "1f219948-d68d-422f-8348-1068f4d69c5b",
   "metadata": {
    "tags": [
     "hide-input",
     "hide-output"
    ]
   },
   "outputs": [
    {
     "data": {
      "text/html": [
       "        <script type=\"text/javascript\">\n",
       "        window.PlotlyConfig = {MathJaxConfig: 'local'};\n",
       "        if (window.MathJax && window.MathJax.Hub && window.MathJax.Hub.Config) {window.MathJax.Hub.Config({SVG: {font: \"STIX-Web\"}});}\n",
       "        if (typeof require !== 'undefined') {\n",
       "        require.undef(\"plotly\");\n",
       "        requirejs.config({\n",
       "            paths: {\n",
       "                'plotly': ['https://cdn.plot.ly/plotly-2.12.1.min']\n",
       "            }\n",
       "        });\n",
       "        require(['plotly'], function(Plotly) {\n",
       "            window._Plotly = Plotly;\n",
       "        });\n",
       "        }\n",
       "        </script>\n",
       "        "
      ]
     },
     "metadata": {},
     "output_type": "display_data"
    },
    {
     "name": "stdout",
     "output_type": "stream",
     "text": [
      "Setup Complete\n"
     ]
    },
    {
     "data": {
      "text/plain": [
       "<Figure size 1000x500 with 0 Axes>"
      ]
     },
     "metadata": {},
     "output_type": "display_data"
    }
   ],
   "source": [
    "#Benötigte Libraries:\n",
    "import numpy as np\n",
    "import pandas as pd\n",
    "import matplotlib.pyplot as plt\n",
    "import plotly.offline as py\n",
    "py.init_notebook_mode(connected=True)\n",
    "import plotly.graph_objs as go\n",
    "import plotly.tools as tls\n",
    "import seaborn as sns\n",
    "import time\n",
    "import warnings\n",
    "warnings.filterwarnings('ignore')\n",
    "\n",
    "# MatplotLib Settings:\n",
    "plt.style.use('default') # Matplotlib Style wählen\n",
    "plt.figure(figsize=(10,5)) # Plot-Größe\n",
    "plt.rcParams['font.size'] = 10; # Schriftgröße"
   ]
  },
  {
   "cell_type": "markdown",
   "id": "7392a1d2-82e1-4f27-9093-3109d882a3d3",
   "metadata": {},
   "source": [
    "# Quellen und Ursachen von Messunsicherheiten\n",
    "\n",
    "Früher hat man statt *Abweichung* noch den Begriff *Messfehler* verwendet. Man dachte, dass man mit genügend Aufwand, Sorgfalt und bestmöglicher Technologie den Fehler vollständig eliminieren können. Spätestens seit der Theorie der *Quantenphysik* ist uns allerdings bekannt, dass zufällige Einflüsse auf die beobachteten Messgrößen  unvermeidlich sind und auch nicht vorhergesagt werden können. Statt eines einzig *wahren* Wertes werden in der Quantenphysik Messgrößen durch deren Erwartungswerte vorhergesagt. Diesen Messgrößen liegt eine Wahrscheinlichkeitsdichte zu Grunde, dessen Varianz (bzw. Standardabweichung) nicht verschwindet! Somit werden für ein und dieselbe physikalische Messgröße verschiedene Ergebnisse gemessen, obwohl nahezu identische Bedingungen herrschen. Das Eintreten eines bestimmten Messergebnisses ist an eine bestimmte Wahrscheinlichkeit gekoppelt, mit der dieses Ergebnis eintritt.  \n",
    "\n",
    "Jede Messung einer physikalischen Größe $x$ ist abhängig von den verwendeten Messgeräten, dem Messverfahren, dem Messobjekt, von Umwelteinflüssen (Temperatur, Feuchtigkeit, elektromagnetische Felder) und schließlich auch vom Beobachter (Müdigkeit, Sehschärfe, Übung). Messungen liefern daher lediglich Schätzwerte für die *wahren* Werte einer Größe. Es gibt prinzipiell keine Möglichkeit, den wahren Wert einer Messgröße zu messen. Im Rahmen internationaler Anstrengungen für eine einheitliche Bewertung von Einflussgrößen auf eine Messung werden zwei Kategorien von Methoden der Berechnung von Unsicherheiten unterschieden [[GUM]](https://www.iso.org/sites/JCGM/GUM/JCGM100/C045315e-html/C045315e.html?csnumber=50461):\n",
    "- **Typ A (\"Zufällige Abweichung\"):** Berechnung der Messunsicherheit durch statistische Analyse der Messungen\n",
    "- **Typ B (\"Systematische Abweichung\"):** Berechnung der Messunsicherheit mit anderen Mitteln als der statistischen Analyse\n",
    "\n",
    "![Messfehler](pictures/messfehler.png)\n",
    "\n",
    "## Typ A-Unsicherheiten (\"Zufällige Fehler\")\n",
    "\n",
    "Dies sind Messunsicherheiten, die nicht einseitig gerichtet sind, sondern einer zufälligen Streuung der Messwerte zugrunde liegen. Zur Behandlung dieser Messunsicherheiten nutzt man die Stochastik (Wahrscheinlichkeitslehre und Statistik). \n",
    "Zufällige Fehler kennt man nicht, er ist folglich nicht korrigierbar und lässt sich auch nicht reproduzieren unter gleichen Messbedingungen. Hier sind wiederholte Messungen und statistische Analysen notwendig, wodurch Mittelwert und Standardabweichung von sogenannten *Stichproben* ermittelt wird. Wie gewinnt man aus einer Messreihe $x_j$ den besten Schätzewert, der mit maximaler Wahrscheinlichkeit am nähesten am *wahren* Wert, $x_w$, liegt? Mit welcher Wahrscheinlichkeit liegt das Messergebnis innerhalb eines bestimmten Intervalls um den wahren Wert, $$x = x_w + \\Delta x ?$$\n",
    "\n",
    "## Typ B-Unsicherheiten (\"Systematische Fehler\")\n",
    "\n",
    "Hierbei handelt es sich um reproduzierbare Messunsicherheiten. \n",
    "Sie kann durch Aufwand und Kalibration verbessert werden, was *nicht* für zufällige Messabweichungen gilt. Systematische Messabweichungen (z.B. Kennlinienfehler) sollten in aller Regel am besten korrigiert werden, wenn dies möglich ist. Ansonsten sollte mindestens eine Angabe der Messabweichung erfolgen.\n",
    "Es gibt keine allgemeingültige Definition oder allgemeine Verfahren zur Korrektur. Das heißt für jeden Fall müssen neue Verfahren entwickelt werden. Hier kommen ein paar Beispiele, wie man mit solchen *systematischen* Messunsicherheiten umgehen kann:\n",
    "\n",
    "### Anzeigefehler von Messgeräten\n",
    "\n",
    "Messgeräte werden anhand ihrer Genauigkeit in Klassen eingruppiert. Die Klasse entspricht der relativen Messabweichung. Präzisionsmessgeräte besitzen somit Abweichungen die zwischen 0,001% und 0,05% liegen. Die Genauigkeitsklasse K 2,5 (Angabe auf der Mess- skala nach DIN EN 60051 Abb. 1) bedeutet: Ist der Endwert des eingestellten Messbereichs $U_\\mathrm{end}$, dann beträgt die Typ B-Unsicherheit über den gesamten Messbereich $u(U) = 0,0025\\cdot U_\\mathrm{end}$. Für $U_\\mathrm{end} = 15\\,\\mathrm V$ erhält man also:"
   ]
  },
  {
   "cell_type": "code",
   "execution_count": 4,
   "id": "d1f3fe8c-a869-47ef-b1d9-81f906308011",
   "metadata": {},
   "outputs": [
    {
     "name": "stdout",
     "output_type": "stream",
     "text": [
      "eine absolute Unsicherheit von  0.0375 V\n"
     ]
    }
   ],
   "source": [
    "U_end = 15\n",
    "u = 0.0025\n",
    "print('eine absolute Unsicherheit von ', u*U_end, 'V')"
   ]
  },
  {
   "cell_type": "markdown",
   "id": "0604adb4-a9f7-40e5-8b59-c5b5385c2347",
   "metadata": {},
   "source": [
    "Dieser Wert von 0,375V gilt unabhängig davon, wie groß der Zeigerausschlag beim Messgerät ist. Um die relative Unsicherheit gering zu halten, sollte der Messbereich möglichst so gewählt werden, dass der Messwert am Skalen*ende* abgelesen wird.\n",
    "\n",
    "### Digitalstellenfehler\n",
    "\n",
    "![Bild](pictures/hersteller_abweichung.png)\n",
    "\n",
    "Das Gerät im Bild zeigt den Messwert 5.847V an. Laut Hersteller ist die Maximalabweichung (unter Referenzbedingungen) $a = \\pm$ (0,5% vom *Messwert* + 9 Digit). Die Anzahl der Nachkommastellen (also der Digits) ist in diesem Falle 3, also 0,001V. Genauer kann das Messgerät keine Spannung angeben. Die Messabweichung setzt sich also wiefolgt zusammen (zwei signifikante Stellen reichen hierbei, da der Messwert selber nicht genauer angezeigt wird):\n",
    "\n",
    "$$a = \\pm (0,5\\% \\cdot 5,847\\,\\mathrm{V} + 9 \\cdot 0,001\\,\\mathrm V) \\approx \\pm 0,038\\,\\mathrm V = \\pm 38,235\\,\\mathrm{mV}$$\n",
    "\n",
    "Innerhalb dieses $\\pm$ Bereiches der Breite $2a$ unterstellt man eine Gleichverteilung der Messwerte und bekommt damit die Standardunsicherheit:\n",
    "\n",
    "$$u(U) = \\frac{a}{\\sqrt{3}} = \\frac{38,235\\,\\mathrm{mV}}{\\sqrt{3}} \\approx 22\\,\\mathrm{mV}$$\n",
    "\n",
    "Ist nichts weiter bekannt, schätzt man die Unsicherheit über einen Mindestfehler von a = 1 Digit ab."
   ]
  },
  {
   "cell_type": "code",
   "execution_count": 5,
   "id": "64eb2f78-9386-439f-b17c-fdd40580c3b9",
   "metadata": {},
   "outputs": [
    {
     "name": "stdout",
     "output_type": "stream",
     "text": [
      "Die Messtoleranz beträgt: +- 0.03824 V = +- 38.235 mV\n",
      "Die Unsicherheit beträgt: +- 0.02207 V = +- 22.07499 mV\n"
     ]
    }
   ],
   "source": [
    "Messwert = 5.847 # in V\n",
    "Nachkommastellen = 5\n",
    "A_rel = 0.005 # = 0.5%\n",
    "Digit = 0.001 # in V \n",
    "A_total = A_rel * Messwert + 9 * Digit\n",
    "print('Die Messtoleranz beträgt: +-',round(A_total,Nachkommastellen), 'V = +-', round(A_total*1000,Nachkommastellen), 'mV')\n",
    "print('Die Unsicherheit beträgt: +-',round(A_total/np.sqrt(3),Nachkommastellen), 'V = +-', round(A_total*1000/np.sqrt(3),Nachkommastellen), 'mV')"
   ]
  },
  {
   "cell_type": "markdown",
   "id": "e7fe2b0b-5281-4cba-aaa7-f4d8c7aad0f3",
   "metadata": {},
   "source": [
    "Man merkt, dass systematische Fehler sehr unangenehm sein können, da Gegenmaßnahmen fallabhängig entwickelt werden müssen. In einigen Fällen gelangt man zu einer brauchbaren Abschätzung der Unsicherheit, wenn man den „worst case“ annimmt.\n",
    "\n",
    "## Weitere Unsicherheiten\n",
    "\n",
    "Dann gibt es noch der Vollständigkeitshaler die **dynamischen Fehler**. Jedes Messsystem braucht eine bestimmte Zeit, um sich auf einen bestimmten Messwert einzupedeln. Dies nennt man auch die Latenzzeit, oder die Trägheit, eines Messsystems. Es besteht also die Möglichkeit, dass man *zu früh misst*, und das Messsystem den zu messenden Wert noch gar nicht richtig anzeigen kann. \n",
    "\n",
    "**Quantisierungsfehler** entstehen beim Prozess des Digitalisierens der Messwerte. Da nur eine endliche Anzahl von Möglichkeiten besteht einen analogen Messwert darzustellen (abhängig von der Anzahl der verwendet Bits) gehen bei diesem Prozess *immer* Informationen verloren.\n",
    "\n",
    "## Schreibweise eines Messwertes mit Messabweichung\n",
    "\n",
    "Die **Gesamt-Messabweichung** einer Messgröße $x$ setzt sich also wiefolgt zusammen:\n",
    "\n",
    "$$A = A_r +  A_s$$\n",
    "\n",
    "wobei $A_r$ zufällige und $A_s$ systematische Messabweichungen sind. Ein Messwert setzt sich also zusammen aus dem *wahren* oder *richtigen* Wert, den wir niemals kennen werden, und der Messabweichung. Es gelten folgende Zusammenhänge:\n",
    "\n",
    "* Der **ermittelte Messwert** lässt sich wiefolgt schreiben, wobei $x_w$ der *wahre*, aber uns unbekannte, Wert ist. $A$ ist die Messabweichung: \n",
    "\n",
    "$$x = x_w + A$$\n",
    "\n",
    "* Die **absolute Messabweichung** ergibt sich aus Umstellen der Gleichung:\n",
    "\n",
    "$$A = x - x_w = \\Delta x$$\n",
    "\n",
    "* Bei der Angabe **relativen Messabweichung** wird die Messabweichung auf einen Referenzwert, $r$, bezogen, der entweder der Messwert selber ist ($r = x$), oder manchmal auch die Spanne ($r = x_\\mathrm{max} - x_\\mathrm{min}$) oder Maximalwert/Messbereichsendwert ($r = x_\\mathrm{max}$):\n",
    "\n",
    "$$ A_\\mathrm{rel} = \\frac{A}{r} = \\frac{\\Delta x}{r}$$\n",
    "\n",
    "### Signifikante Stellen \n",
    "\n",
    "Die **Anzahl der Nachkommastellen** eines Messwertes ist niemals größer als die der angegebenen Messabweichung oder Unsicherheit. Die Anzahl der Nachkommastellen der Messabweichung wird über **signifikante Stellen** (= angegebene Ziffern ohne führende Nullen) definiert. Je mehr signifikante Stellen angegeben werden, desto größer ist die Genuigkeit, die reklamiert wird. Es gelten folgende Rechenoperationen nach DIN1333:\n",
    "\n",
    "- Bei **Addition von Größen** bekommt das Ergebnis genauso viele Nachkommastellen wie die Zahl mit den *wenigsten* Nachkommastellen.\n",
    "- Bei **Multiplikation von Größen** bekommst das Ergebnis genauso viele signifikante Stellen wie der Zahl mit den wenigsten signifikanten Stellen.\n",
    "- **Messunsicherheiten** werden auf eine signifikante Stelle gerundet. Eine Ausnahme existiert, wenn die erste Ziffer eine \"1\" ist, weil sonst Rundungsfehler schnell zu groß werden. Beispiel: $u(g) = 0,1562\\,\\mathrm{m/s^2} = 0,16\\,\\mathrm{m/s^2}$. Die Darstellung $g = (9,81 \\pm 0,03562)\\,\\mathrm{m/s^2}$ wäre unsinnig, da die Genauigkeit auf zwei Nachkommastellen durch den Messwert beschränkt ist. \n",
    "- **Messwerte** werden so angegeben, dass die letzte signifikante Stelle die gleiche Größenprdnung hat, wie die Messunsicherheit: Die Angabe $H=(13,13\\pm 1)\\,\\mathrm m$ ist sinnlos, richtig wäre $H=(13\\pm 1)\\,\\mathrm m$.\n",
    "\n",
    "Um Rundungsfehler zu reduzieren, führen Sie in den Berechnungen soviel signifikante Stellen der Messunsicherheit mit, wie nötig.\n",
    "\n",
    "### Grafische Darstellung eines Messwertes mit Messabweichung\n",
    "\n",
    "Die grafische Darstellung eines solchen Messwertes in einem Diagramm kann im folgenden Code-Block ausgeführt und angesehen werden. Prinzipiell gilt, dass für jeden Messwert in der Regel ein solcher **Fehlerbalken** stets anzugeben ist. "
   ]
  },
  {
   "cell_type": "code",
   "execution_count": 6,
   "id": "8e8713ce-c6a7-415e-9122-d097def2bc4b",
   "metadata": {
    "tags": [
     "hide-input"
    ]
   },
   "outputs": [
    {
     "data": {
      "image/png": "[encoded data removed]",
      "text/plain": [
       "<Figure size 640x480 with 1 Axes>"
      ]
     },
     "metadata": {},
     "output_type": "display_data"
    }
   ],
   "source": [
    "x = [1.0]  # Datenwerte für x-Achse, hier Nr der Messung\n",
    "y = [1.0]  # Messwert (Datenpunkt)\n",
    "delta_y = [0.3] # Messabweichung\n",
    "\n",
    "# Diagrammdarstellung:\n",
    "plt.errorbar(x, y, yerr=delta_y, fmt='bo', color=\"tab:blue\")\n",
    "plt.xlim(0.5, 1.5)\n",
    "#plt.ylim(0.,1.1*(max(y)+max(delta_y)))\n",
    "plt.ylabel(\"U (V)\")\n",
    "plt.xlabel(\"Nr. der Messung\")\n",
    "plt.show()"
   ]
  },
  {
   "cell_type": "markdown",
   "id": "505c205e-fe9e-402e-9c9e-5ac56f6398f2",
   "metadata": {},
   "source": [
    "### Diskrepanz und Konsistenz\n",
    "\n",
    "Die Diskrepanz zweier Messwerte derselben Größe ist der Absolutbetrag ihrer Differenz. Zwei Messungen sind konsistent, wenn ihre Diskrepanz geringer ist, als die (kleinere der) Messunsicherheiten:\n",
    "- $g = (9,73 \\pm 0,05)\\,\\mathrm{m/s^2}$ und $g = (9,76 \\pm 0,04)\\,\\mathrm{m/s^2}$ sind *konsistent*, nicht jedoch $g = (9,71 \\pm 0,02)\\,\\mathrm{m/s^2}$ und $g = (9,76 \\pm 0,04)\\,\\mathrm{m/s^2}$\n",
    "- Ist $g = (8.9 \\pm 1,5)\\,\\mathrm{m/s^2}$ das Ergebnis einer Messung des Ortsfaktors, dann ist die Messung zwar nicht sonderlich präzise, aber mit dem Literaturwert von $g = 9,81\\,\\mathrm{m/s^2}$ vereinbar."
   ]
  },
  {
   "cell_type": "code",
   "execution_count": 7,
   "id": "bf44aba5-7b46-49dd-841e-ea5708ff91c7",
   "metadata": {
    "tags": [
     "hide-input"
    ]
   },
   "outputs": [
    {
     "data": {
      "image/png": "[encoded data removed]",
      "text/plain": [
       "<Figure size 640x480 with 1 Axes>"
      ]
     },
     "metadata": {},
     "output_type": "display_data"
    }
   ],
   "source": [
    "y=[9.73, 9.76, 9.71, 9.76, 8.9] # Messung \n",
    "u_y=[0.05,0.04,0.02,0.04,1.5] # Unsicherheit d\n",
    "y_w=9.81 # wahrer / richtiger Wert \n",
    "\n",
    "plt.errorbar([1, 2, 3,4,5], y, yerr=u_y, fmt='bo', color = \"tab:blue\")\n",
    "\n",
    "plt.axhline(y_w, color='tab:red', linewidth=3)\n",
    "plt.text(1.2, 9.83, 'wahrer Wert', color='tab:red') \n",
    "\n",
    "plt.ylabel(r\"Erdbeschleunigung\")\n",
    "plt.xlabel(\"Nr. der Messung\")\n",
    "plt.title(\"Messungen der Erdbeschleunigung\")\n",
    "plt.ylim([8.8,9.9])\n",
    "plt.grid()\n",
    "plt.show()"
   ]
  },
  {
   "cell_type": "markdown",
   "id": "52fc1345-133b-4868-a2a7-94546ae12752",
   "metadata": {},
   "source": [
    "Nur einer der Messwerte überlappt mit dem *wahren* Wert der Erdbeschleunigung Die Fehlerbalken der zweiten Messung hingegen sind davon entfernt, in den *wahren* Bereich überzulappen. D.h. es existiert hier ein Widerspruch zu vorherigen Messungen, die den wahren Wert kennzeichnete. Würde es sich hierbei nicht um die Messung der Erdbeschleunigung, sondern um die einer Natur*konstante* handeln, gäbe es sogar einen Widerspruch zum SI-Einheitensystem. "
   ]
  }
 ],
 "metadata": {
  "kernelspec": {
   "display_name": "Python 3",
   "language": "python",
   "name": "python3"
  },
  "language_info": {
   "codemirror_mode": {
    "name": "ipython",
    "version": 3
   },
   "file_extension": ".py",
   "mimetype": "text/x-python",
   "name": "python",
   "nbconvert_exporter": "python",
   "pygments_lexer": "ipython3",
   "version": "3.9.7"
  }
 },
 "nbformat": 4,
 "nbformat_minor": 5
}
